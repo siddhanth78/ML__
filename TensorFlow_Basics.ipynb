{
 "cells": [
  {
   "cell_type": "code",
   "execution_count": 42,
   "id": "0599aaa4-3ac1-44cc-9c70-87eee088ac2c",
   "metadata": {},
   "outputs": [],
   "source": [
    "import tensorflow as tf"
   ]
  },
  {
   "cell_type": "code",
   "execution_count": 56,
   "id": "002274fb-4190-4227-bc4a-4725eb6f91ef",
   "metadata": {},
   "outputs": [],
   "source": [
    "# Initialization\n",
    "\n",
    "x = tf.constant(10, shape=(1,1), dtype=tf.float32)\n",
    "y = tf.constant([[1,2,3],[4,5,6]])\n",
    "\n",
    "z = tf.ones((2,2)) # 2x2 matrix of ones\n",
    "a = tf.zeros((3,3)) # 3x3 matrix of zeros\n",
    "b = tf.eye(3) # 3x3 identity matrix\n",
    "\n",
    "m = tf.random.normal((3,3), mean=0, stddev=1) # 3x3 matrix with random values from a standard normal distribution\n",
    "n = tf.random.uniform((2,2), minval=0, maxval=1) # 2x2 matrix with random values from a uniform distribution\n",
    "\n",
    "p = tf.range(9) # Vector from 0 to 8\n",
    "q = tf.range(start=1, limit=10, delta=2) # [1,3,5,7,9]\n",
    "\n",
    "y = tf.cast(y, dtype=tf.float16) # Typecast y to float16"
   ]
  },
  {
   "cell_type": "code",
   "execution_count": 74,
   "id": "63fd19b6-8121-4269-91c4-7f2efc1c5b77",
   "metadata": {},
   "outputs": [
    {
     "name": "stdout",
     "output_type": "stream",
     "text": [
      "tf.Tensor([10 10 10], shape=(3,), dtype=int32)\n",
      "tf.Tensor([-8 -6 -4], shape=(3,), dtype=int32)\n",
      "tf.Tensor([0.11111111 0.25       0.42857143], shape=(3,), dtype=float64)\n",
      "tf.Tensor([ 9 16 21], shape=(3,), dtype=int32)\n",
      "tf.Tensor(46, shape=(), dtype=int32)\n",
      "tf.Tensor([ 1  8 27], shape=(3,), dtype=int32)\n",
      "tf.Tensor(\n",
      "[[ 1.5110626   0.42292204 -0.41969493 -1.0360372 ]\n",
      " [-1.2368279   0.47027302 -0.01397489  1.1888583 ]\n",
      " [ 0.60253334  0.5997111  -0.7057119  -0.43297544]], shape=(3, 4), dtype=float32)\n",
      "tf.Tensor(\n",
      "[[ 1.0668802   0.19454929]\n",
      " [-0.53082895  0.09190082]\n",
      " [-0.17753708 -0.91930884]\n",
      " [-2.0777557   2.0391903 ]], shape=(4, 2), dtype=float32)\n",
      "tf.Tensor(\n",
      "[[ 3.614767   -1.3940047 ]\n",
      " [-4.0368576   2.23975   ]\n",
      " [ 1.3493941  -0.06181574]], shape=(3, 2), dtype=float32)\n",
      "tf.Tensor(\n",
      "[[ 3.614767   -1.3940047 ]\n",
      " [-4.0368576   2.23975   ]\n",
      " [ 1.3493941  -0.06181574]], shape=(3, 2), dtype=float32)\n"
     ]
    }
   ],
   "source": [
    "# Operations\n",
    "\n",
    "x = tf.constant([1,2,3])\n",
    "y = tf.constant([9,8,7])\n",
    "\n",
    "# Addition\n",
    "z = x + y\n",
    "print(z)\n",
    "\n",
    "# Subtraction\n",
    "z = x - y\n",
    "print(z)\n",
    "\n",
    "# Element-wise division\n",
    "z = x / y\n",
    "print(z)\n",
    "\n",
    "# Element-wise multiplication\n",
    "z = x * y\n",
    "print(z)\n",
    "\n",
    "#Dot product\n",
    "z = tf.tensordot(x, y, axes=1)\n",
    "print(z)\n",
    "\n",
    "# Element-wise exponentiation\n",
    "z = x ** 3\n",
    "print(z)\n",
    "\n",
    "tf.random.set_seed(0)\n",
    "\n",
    "# Matrix multiplication\n",
    "x = tf.random.normal((3,4))\n",
    "print(x)\n",
    "y = tf.random.normal((4,2))\n",
    "print(y)\n",
    "z = tf.matmul(x, y)\n",
    "print(z)\n",
    "z = x @ y\n",
    "print(z)"
   ]
  },
  {
   "cell_type": "code",
   "execution_count": 81,
   "id": "01d2d737-3e23-4469-a860-0e873018228b",
   "metadata": {},
   "outputs": [
    {
     "name": "stdout",
     "output_type": "stream",
     "text": [
      "tf.Tensor([[ 1.5110626   0.42292204 -0.41969493 -1.0360372  -1.2368279 ]], shape=(1, 5), dtype=float32)\n",
      "tf.Tensor([[ 1.5110626  -0.41969493]], shape=(1, 2), dtype=float32)\n",
      "tf.Tensor(\n",
      "[[ 1.0668802   0.19454929]\n",
      " [-0.53082895  0.09190082]\n",
      " [-0.17753708 -0.91930884]], shape=(3, 2), dtype=float32)\n",
      "tf.Tensor([1.0668802  0.19454929], shape=(2,), dtype=float32)\n",
      "tf.Tensor(\n",
      "[[ 1.0668802   0.19454929]\n",
      " [-0.53082895  0.09190082]], shape=(2, 2), dtype=float32)\n"
     ]
    }
   ],
   "source": [
    "# Indexing\n",
    "# Uses regular indexing and slicing\n",
    "\n",
    "tf.random.set_seed(0)\n",
    "\n",
    "x = tf.random.normal((1,5))\n",
    "print(x)\n",
    "indices = tf.constant([0,2])\n",
    "z = tf.gather(x, indices, axis=1)\n",
    "print(z)\n",
    "\n",
    "y = tf.random.normal((3,2))\n",
    "print(y)\n",
    "print(y[0,:])\n",
    "print(y[0:2,:])"
   ]
  },
  {
   "cell_type": "code",
   "execution_count": 87,
   "id": "064c5be8-16c6-4826-938b-935335eb31ec",
   "metadata": {},
   "outputs": [
    {
     "name": "stdout",
     "output_type": "stream",
     "text": [
      "tf.Tensor([ 0  1  2  3  4  5  6  7  8  9 10 11 12 13 14], shape=(15,), dtype=int32)\n",
      "tf.Tensor(\n",
      "[[ 0  1  2  3  4]\n",
      " [ 5  6  7  8  9]\n",
      " [10 11 12 13 14]], shape=(3, 5), dtype=int32)\n",
      "tf.Tensor(\n",
      "[[1 2 3]\n",
      " [4 5 6]\n",
      " [7 8 9]], shape=(3, 3), dtype=int32)\n",
      "tf.Tensor(\n",
      "[[1 4 7]\n",
      " [2 5 8]\n",
      " [3 6 9]], shape=(3, 3), dtype=int32)\n"
     ]
    }
   ],
   "source": [
    "# Reshaping\n",
    "\n",
    "x = tf.range(15)\n",
    "print(x)\n",
    "x_rs = tf.reshape(x, (3,5))\n",
    "print(x_rs)\n",
    "\n",
    "y = tf.constant([[1,2,3],\n",
    "               [4,5,6],\n",
    "               [7,8,9]])\n",
    "print(y)\n",
    "y_T = tf.transpose(y, perm=[1,0]) # perm swaps rows and columns (axes 0 and 1 to 1 and 0)\n",
    "print(y_T)"
   ]
  }
 ],
 "metadata": {
  "kernelspec": {
   "display_name": "Python 3 (ipykernel)",
   "language": "python",
   "name": "python3"
  },
  "language_info": {
   "codemirror_mode": {
    "name": "ipython",
    "version": 3
   },
   "file_extension": ".py",
   "mimetype": "text/x-python",
   "name": "python",
   "nbconvert_exporter": "python",
   "pygments_lexer": "ipython3",
   "version": "3.11.0"
  }
 },
 "nbformat": 4,
 "nbformat_minor": 5
}
