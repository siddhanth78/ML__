{
 "cells": [
  {
   "cell_type": "code",
   "execution_count": 1,
   "id": "198bee1a-9949-484f-9d8b-e16bdd910164",
   "metadata": {},
   "outputs": [],
   "source": [
    "import tensorflow as tf\n",
    "from tensorflow import keras\n",
    "from tensorflow.keras import layers, Sequential, optimizers\n",
    "\n",
    "import pandas as pd\n",
    "import seaborn as sns\n",
    "import matplotlib.pyplot as plt\n",
    "import numpy as np"
   ]
  },
  {
   "cell_type": "code",
   "execution_count": 2,
   "id": "ec2b0b38-4675-4675-beb4-962069871681",
   "metadata": {},
   "outputs": [
    {
     "data": {
      "text/html": [
       "<div>\n",
       "<style scoped>\n",
       "    .dataframe tbody tr th:only-of-type {\n",
       "        vertical-align: middle;\n",
       "    }\n",
       "\n",
       "    .dataframe tbody tr th {\n",
       "        vertical-align: top;\n",
       "    }\n",
       "\n",
       "    .dataframe thead th {\n",
       "        text-align: right;\n",
       "    }\n",
       "</style>\n",
       "<table border=\"1\" class=\"dataframe\">\n",
       "  <thead>\n",
       "    <tr style=\"text-align: right;\">\n",
       "      <th></th>\n",
       "      <th>CRIM</th>\n",
       "      <th>ZN</th>\n",
       "      <th>INDUS</th>\n",
       "      <th>CHAS</th>\n",
       "      <th>NOX</th>\n",
       "      <th>RM</th>\n",
       "      <th>AGE</th>\n",
       "      <th>DIS</th>\n",
       "      <th>RAD</th>\n",
       "      <th>TAX</th>\n",
       "      <th>PTRATIO</th>\n",
       "      <th>B</th>\n",
       "      <th>LSTAT</th>\n",
       "      <th>MEDV</th>\n",
       "    </tr>\n",
       "  </thead>\n",
       "  <tbody>\n",
       "    <tr>\n",
       "      <th>0</th>\n",
       "      <td>0.00632</td>\n",
       "      <td>18.0</td>\n",
       "      <td>2.31</td>\n",
       "      <td>0</td>\n",
       "      <td>0.538</td>\n",
       "      <td>6.575</td>\n",
       "      <td>65.2</td>\n",
       "      <td>4.0900</td>\n",
       "      <td>1</td>\n",
       "      <td>296.0</td>\n",
       "      <td>15.3</td>\n",
       "      <td>396.90</td>\n",
       "      <td>4.98</td>\n",
       "      <td>24.0</td>\n",
       "    </tr>\n",
       "    <tr>\n",
       "      <th>1</th>\n",
       "      <td>0.02731</td>\n",
       "      <td>0.0</td>\n",
       "      <td>7.07</td>\n",
       "      <td>0</td>\n",
       "      <td>0.469</td>\n",
       "      <td>6.421</td>\n",
       "      <td>78.9</td>\n",
       "      <td>4.9671</td>\n",
       "      <td>2</td>\n",
       "      <td>242.0</td>\n",
       "      <td>17.8</td>\n",
       "      <td>396.90</td>\n",
       "      <td>9.14</td>\n",
       "      <td>21.6</td>\n",
       "    </tr>\n",
       "    <tr>\n",
       "      <th>2</th>\n",
       "      <td>0.02729</td>\n",
       "      <td>0.0</td>\n",
       "      <td>7.07</td>\n",
       "      <td>0</td>\n",
       "      <td>0.469</td>\n",
       "      <td>7.185</td>\n",
       "      <td>61.1</td>\n",
       "      <td>4.9671</td>\n",
       "      <td>2</td>\n",
       "      <td>242.0</td>\n",
       "      <td>17.8</td>\n",
       "      <td>392.83</td>\n",
       "      <td>4.03</td>\n",
       "      <td>34.7</td>\n",
       "    </tr>\n",
       "    <tr>\n",
       "      <th>3</th>\n",
       "      <td>0.03237</td>\n",
       "      <td>0.0</td>\n",
       "      <td>2.18</td>\n",
       "      <td>0</td>\n",
       "      <td>0.458</td>\n",
       "      <td>6.998</td>\n",
       "      <td>45.8</td>\n",
       "      <td>6.0622</td>\n",
       "      <td>3</td>\n",
       "      <td>222.0</td>\n",
       "      <td>18.7</td>\n",
       "      <td>394.63</td>\n",
       "      <td>2.94</td>\n",
       "      <td>33.4</td>\n",
       "    </tr>\n",
       "    <tr>\n",
       "      <th>4</th>\n",
       "      <td>0.06905</td>\n",
       "      <td>0.0</td>\n",
       "      <td>2.18</td>\n",
       "      <td>0</td>\n",
       "      <td>0.458</td>\n",
       "      <td>7.147</td>\n",
       "      <td>54.2</td>\n",
       "      <td>6.0622</td>\n",
       "      <td>3</td>\n",
       "      <td>222.0</td>\n",
       "      <td>18.7</td>\n",
       "      <td>396.90</td>\n",
       "      <td>5.33</td>\n",
       "      <td>36.2</td>\n",
       "    </tr>\n",
       "    <tr>\n",
       "      <th>5</th>\n",
       "      <td>0.02985</td>\n",
       "      <td>0.0</td>\n",
       "      <td>2.18</td>\n",
       "      <td>0</td>\n",
       "      <td>0.458</td>\n",
       "      <td>6.430</td>\n",
       "      <td>58.7</td>\n",
       "      <td>6.0622</td>\n",
       "      <td>3</td>\n",
       "      <td>222.0</td>\n",
       "      <td>18.7</td>\n",
       "      <td>394.12</td>\n",
       "      <td>5.21</td>\n",
       "      <td>28.7</td>\n",
       "    </tr>\n",
       "    <tr>\n",
       "      <th>6</th>\n",
       "      <td>0.08829</td>\n",
       "      <td>12.5</td>\n",
       "      <td>7.87</td>\n",
       "      <td>0</td>\n",
       "      <td>0.524</td>\n",
       "      <td>6.012</td>\n",
       "      <td>66.6</td>\n",
       "      <td>5.5605</td>\n",
       "      <td>5</td>\n",
       "      <td>311.0</td>\n",
       "      <td>15.2</td>\n",
       "      <td>395.60</td>\n",
       "      <td>12.43</td>\n",
       "      <td>22.9</td>\n",
       "    </tr>\n",
       "    <tr>\n",
       "      <th>7</th>\n",
       "      <td>0.14455</td>\n",
       "      <td>12.5</td>\n",
       "      <td>7.87</td>\n",
       "      <td>0</td>\n",
       "      <td>0.524</td>\n",
       "      <td>6.172</td>\n",
       "      <td>96.1</td>\n",
       "      <td>5.9505</td>\n",
       "      <td>5</td>\n",
       "      <td>311.0</td>\n",
       "      <td>15.2</td>\n",
       "      <td>396.90</td>\n",
       "      <td>19.15</td>\n",
       "      <td>27.1</td>\n",
       "    </tr>\n",
       "    <tr>\n",
       "      <th>8</th>\n",
       "      <td>0.21124</td>\n",
       "      <td>12.5</td>\n",
       "      <td>7.87</td>\n",
       "      <td>0</td>\n",
       "      <td>0.524</td>\n",
       "      <td>5.631</td>\n",
       "      <td>100.0</td>\n",
       "      <td>6.0821</td>\n",
       "      <td>5</td>\n",
       "      <td>311.0</td>\n",
       "      <td>15.2</td>\n",
       "      <td>386.63</td>\n",
       "      <td>29.93</td>\n",
       "      <td>16.5</td>\n",
       "    </tr>\n",
       "    <tr>\n",
       "      <th>9</th>\n",
       "      <td>0.17004</td>\n",
       "      <td>12.5</td>\n",
       "      <td>7.87</td>\n",
       "      <td>0</td>\n",
       "      <td>0.524</td>\n",
       "      <td>6.004</td>\n",
       "      <td>85.9</td>\n",
       "      <td>6.5921</td>\n",
       "      <td>5</td>\n",
       "      <td>311.0</td>\n",
       "      <td>15.2</td>\n",
       "      <td>386.71</td>\n",
       "      <td>17.10</td>\n",
       "      <td>18.9</td>\n",
       "    </tr>\n",
       "  </tbody>\n",
       "</table>\n",
       "</div>"
      ],
      "text/plain": [
       "      CRIM    ZN  INDUS  CHAS    NOX     RM    AGE     DIS  RAD    TAX  \\\n",
       "0  0.00632  18.0   2.31     0  0.538  6.575   65.2  4.0900    1  296.0   \n",
       "1  0.02731   0.0   7.07     0  0.469  6.421   78.9  4.9671    2  242.0   \n",
       "2  0.02729   0.0   7.07     0  0.469  7.185   61.1  4.9671    2  242.0   \n",
       "3  0.03237   0.0   2.18     0  0.458  6.998   45.8  6.0622    3  222.0   \n",
       "4  0.06905   0.0   2.18     0  0.458  7.147   54.2  6.0622    3  222.0   \n",
       "5  0.02985   0.0   2.18     0  0.458  6.430   58.7  6.0622    3  222.0   \n",
       "6  0.08829  12.5   7.87     0  0.524  6.012   66.6  5.5605    5  311.0   \n",
       "7  0.14455  12.5   7.87     0  0.524  6.172   96.1  5.9505    5  311.0   \n",
       "8  0.21124  12.5   7.87     0  0.524  5.631  100.0  6.0821    5  311.0   \n",
       "9  0.17004  12.5   7.87     0  0.524  6.004   85.9  6.5921    5  311.0   \n",
       "\n",
       "   PTRATIO       B  LSTAT  MEDV  \n",
       "0     15.3  396.90   4.98  24.0  \n",
       "1     17.8  396.90   9.14  21.6  \n",
       "2     17.8  392.83   4.03  34.7  \n",
       "3     18.7  394.63   2.94  33.4  \n",
       "4     18.7  396.90   5.33  36.2  \n",
       "5     18.7  394.12   5.21  28.7  \n",
       "6     15.2  395.60  12.43  22.9  \n",
       "7     15.2  396.90  19.15  27.1  \n",
       "8     15.2  386.63  29.93  16.5  \n",
       "9     15.2  386.71  17.10  18.9  "
      ]
     },
     "execution_count": 2,
     "metadata": {},
     "output_type": "execute_result"
    }
   ],
   "source": [
    "housing_data = pd.read_csv('housing.csv')\n",
    "housing_data.head(10)"
   ]
  },
  {
   "cell_type": "code",
   "execution_count": 3,
   "id": "0a4e20c1-5a2d-4c55-8197-a7842ddb6ea9",
   "metadata": {},
   "outputs": [],
   "source": [
    "housing_data = housing_data.dropna()"
   ]
  },
  {
   "cell_type": "code",
   "execution_count": 4,
   "id": "55980793-ff60-4c21-b898-3f18d3255298",
   "metadata": {},
   "outputs": [],
   "source": [
    "train_data = housing_data.sample(frac = 0.8, random_state = 0)\n",
    "test_data = housing_data.drop(train_data.index)"
   ]
  },
  {
   "cell_type": "code",
   "execution_count": 5,
   "id": "69f20cff-0708-475d-99b1-cf05d0c59948",
   "metadata": {},
   "outputs": [
    {
     "name": "stdout",
     "output_type": "stream",
     "text": [
      "         CRIM   ZN  INDUS  CHAS    NOX     RM    AGE     DIS  RAD    TAX  \\\n",
      "329   0.06724  0.0   3.24     0  0.460  6.333   17.2  5.2146    4  430.0   \n",
      "371   9.23230  0.0  18.10     0  0.631  6.216  100.0  1.1691   24  666.0   \n",
      "219   0.11425  0.0  13.89     1  0.550  6.373   92.4  3.3633    5  276.0   \n",
      "403  24.80170  0.0  18.10     0  0.693  5.349   96.0  1.7028   24  666.0   \n",
      "78    0.05646  0.0  12.83     0  0.437  6.232   53.7  5.0141    5  398.0   \n",
      "15    0.62739  0.0   8.14     0  0.538  5.834   56.5  4.4986    4  307.0   \n",
      "487   4.83567  0.0  18.10     0  0.583  5.905   53.2  3.1523   24  666.0   \n",
      "340   0.06151  0.0   5.19     0  0.515  5.968   58.5  4.8122    5  224.0   \n",
      "310   2.63548  0.0   9.90     0  0.544  4.973   37.8  2.5194    4  304.0   \n",
      "102   0.22876  0.0   8.56     0  0.520  6.405   85.4  2.7147    5  384.0   \n",
      "\n",
      "     PTRATIO       B  LSTAT  MEDV  \n",
      "329     16.9  375.21   7.34  22.6  \n",
      "371     20.2  366.15   9.53  50.0  \n",
      "219     16.4  393.74  10.50  23.0  \n",
      "403     20.2  396.90  19.77   8.3  \n",
      "78      18.7  386.40  12.34  21.2  \n",
      "15      21.0  395.62   8.47  19.9  \n",
      "487     20.2  388.22  11.45  20.6  \n",
      "340     20.2  396.90   9.29  18.7  \n",
      "310     18.4  350.45  12.64  16.1  \n",
      "102     20.9   70.80  10.63  18.6  \n",
      "       CRIM    ZN  INDUS  CHAS    NOX     RM    AGE     DIS  RAD    TAX  \\\n",
      "9   0.17004  12.5   7.87     0  0.524  6.004   85.9  6.5921    5  311.0   \n",
      "25  0.84054   0.0   8.14     0  0.538  5.599   85.7  4.4546    4  307.0   \n",
      "28  0.77299   0.0   8.14     0  0.538  6.495   94.4  4.4547    4  307.0   \n",
      "31  1.35472   0.0   8.14     0  0.538  6.072  100.0  4.1750    4  307.0   \n",
      "32  1.38799   0.0   8.14     0  0.538  5.950   82.0  3.9900    4  307.0   \n",
      "38  0.17505   0.0   5.96     0  0.499  5.966   30.2  3.8473    5  279.0   \n",
      "39  0.02763  75.0   2.95     0  0.428  6.595   21.8  5.4011    3  252.0   \n",
      "42  0.14150   0.0   6.91     0  0.448  6.169    6.6  5.7209    3  233.0   \n",
      "47  0.22927   0.0   6.91     0  0.448  6.030   85.5  5.6894    3  233.0   \n",
      "53  0.04981  21.0   5.64     0  0.439  5.998   21.4  6.8147    4  243.0   \n",
      "\n",
      "    PTRATIO       B  LSTAT  MEDV  \n",
      "9      15.2  386.71  17.10  18.9  \n",
      "25     21.0  303.42  16.51  13.9  \n",
      "28     21.0  387.94  12.80  18.4  \n",
      "31     21.0  376.73  13.04  14.5  \n",
      "32     21.0  232.60  27.71  13.2  \n",
      "38     19.2  393.43  10.13  24.7  \n",
      "39     18.3  395.63   4.32  30.8  \n",
      "42     17.9  383.37   5.81  25.3  \n",
      "47     17.9  392.74  18.80  16.6  \n",
      "53     16.8  396.90   8.43  23.4  \n"
     ]
    }
   ],
   "source": [
    "print(train_data.head(10))\n",
    "print(test_data.head(10))"
   ]
  },
  {
   "cell_type": "code",
   "execution_count": 6,
   "id": "2aaf2c13-99c0-4678-99d6-f1790196b50b",
   "metadata": {},
   "outputs": [],
   "source": [
    "age_train = train_data['AGE']\n",
    "tax_train = train_data['TAX']\n",
    "age_test = test_data['AGE']\n",
    "tax_test = test_data['TAX']"
   ]
  },
  {
   "cell_type": "code",
   "execution_count": 7,
   "id": "7acb1bd8-4c05-4151-a1fe-dafb47e8a1e4",
   "metadata": {},
   "outputs": [],
   "source": [
    "age_train_np = np.array(age_train)\n",
    "\n",
    "age_normalizer = layers.Normalization(input_shape = [1,], axis = None)\n",
    "age_normalizer.adapt(age_train_np)"
   ]
  },
  {
   "cell_type": "code",
   "execution_count": 8,
   "id": "a0c0940a-db14-4c8c-b112-291eb6f6aae2",
   "metadata": {},
   "outputs": [
    {
     "name": "stdout",
     "output_type": "stream",
     "text": [
      "Model: \"sequential\"\n",
      "_________________________________________________________________\n",
      " Layer (type)                Output Shape              Param #   \n",
      "=================================================================\n",
      " normalization (Normalizati  (None, 1)                 3         \n",
      " on)                                                             \n",
      "                                                                 \n",
      " dense (Dense)               (None, 1)                 2         \n",
      "                                                                 \n",
      "=================================================================\n",
      "Total params: 5 (24.00 Byte)\n",
      "Trainable params: 2 (8.00 Byte)\n",
      "Non-trainable params: 3 (16.00 Byte)\n",
      "_________________________________________________________________\n"
     ]
    }
   ],
   "source": [
    "age_model = Sequential([\n",
    "    age_normalizer,\n",
    "    layers.Dense(units = 1)\n",
    "])\n",
    "\n",
    "age_model.summary()"
   ]
  },
  {
   "cell_type": "code",
   "execution_count": 9,
   "id": "6838ce9c-bb57-43a4-ad45-8309d4185f7f",
   "metadata": {},
   "outputs": [],
   "source": [
    "age_model.compile(\n",
    "    optimizer = optimizers.Adam(learning_rate=0.1),\n",
    "    loss = 'mean_absolute_error'\n",
    ")"
   ]
  },
  {
   "cell_type": "code",
   "execution_count": 10,
   "id": "35c67464-a8a4-4a72-b973-97611ba00b66",
   "metadata": {},
   "outputs": [],
   "source": [
    "history = age_model.fit(\n",
    "    age_train,\n",
    "    tax_train,\n",
    "    epochs = 1000,\n",
    "    verbose = 0,\n",
    "    validation_split = 0.2\n",
    ")"
   ]
  },
  {
   "cell_type": "code",
   "execution_count": 11,
   "id": "9b955d29-2f5e-4160-8638-77b9b765a759",
   "metadata": {},
   "outputs": [
    {
     "data": {
      "text/html": [
       "<div>\n",
       "<style scoped>\n",
       "    .dataframe tbody tr th:only-of-type {\n",
       "        vertical-align: middle;\n",
       "    }\n",
       "\n",
       "    .dataframe tbody tr th {\n",
       "        vertical-align: top;\n",
       "    }\n",
       "\n",
       "    .dataframe thead th {\n",
       "        text-align: right;\n",
       "    }\n",
       "</style>\n",
       "<table border=\"1\" class=\"dataframe\">\n",
       "  <thead>\n",
       "    <tr style=\"text-align: right;\">\n",
       "      <th></th>\n",
       "      <th>loss</th>\n",
       "      <th>val_loss</th>\n",
       "    </tr>\n",
       "  </thead>\n",
       "  <tbody>\n",
       "    <tr>\n",
       "      <th>995</th>\n",
       "      <td>113.331528</td>\n",
       "      <td>133.781372</td>\n",
       "    </tr>\n",
       "    <tr>\n",
       "      <th>996</th>\n",
       "      <td>113.327377</td>\n",
       "      <td>133.674652</td>\n",
       "    </tr>\n",
       "    <tr>\n",
       "      <th>997</th>\n",
       "      <td>113.341545</td>\n",
       "      <td>133.616104</td>\n",
       "    </tr>\n",
       "    <tr>\n",
       "      <th>998</th>\n",
       "      <td>113.340431</td>\n",
       "      <td>133.660324</td>\n",
       "    </tr>\n",
       "    <tr>\n",
       "      <th>999</th>\n",
       "      <td>113.334404</td>\n",
       "      <td>133.678650</td>\n",
       "    </tr>\n",
       "  </tbody>\n",
       "</table>\n",
       "</div>"
      ],
      "text/plain": [
       "           loss    val_loss\n",
       "995  113.331528  133.781372\n",
       "996  113.327377  133.674652\n",
       "997  113.341545  133.616104\n",
       "998  113.340431  133.660324\n",
       "999  113.334404  133.678650"
      ]
     },
     "execution_count": 11,
     "metadata": {},
     "output_type": "execute_result"
    }
   ],
   "source": [
    "hist = pd.DataFrame(history.history)\n",
    "hist.tail()"
   ]
  },
  {
   "cell_type": "code",
   "execution_count": 12,
   "id": "c3406e50-4ae4-48b3-9d70-5dc4927a9c82",
   "metadata": {},
   "outputs": [],
   "source": [
    "model_eval = {}\n",
    "model_eval['age_model_result'] = age_model.evaluate(\n",
    "    age_test,\n",
    "    tax_test,\n",
    "    verbose = 0\n",
    ")"
   ]
  },
  {
   "cell_type": "code",
   "execution_count": 13,
   "id": "9b3f7169-fae6-461e-96e3-0bbbc875f8ff",
   "metadata": {},
   "outputs": [
    {
     "name": "stdout",
     "output_type": "stream",
     "text": [
      "4/4 [==============================] - 0s 668us/step\n"
     ]
    }
   ],
   "source": [
    "x = tf.linspace(0.0, 100, 101)\n",
    "y = age_model.predict(x)"
   ]
  },
  {
   "cell_type": "code",
   "execution_count": 14,
   "id": "66c8fc43-2ae9-40c7-abe3-f49d02e6b8d6",
   "metadata": {},
   "outputs": [
    {
     "data": {
      "image/png": "[encoded data removed]",
      "text/plain": [
       "<Figure size 640x480 with 1 Axes>"
      ]
     },
     "metadata": {},
     "output_type": "display_data"
    }
   ],
   "source": [
    "plt.scatter(age_train, tax_train, label = 'Data')\n",
    "plt.plot(x, y, color = 'k', label = 'Pred')\n",
    "plt.xlabel('Age')\n",
    "plt.ylabel('Tax')\n",
    "plt.legend()\n",
    "plt.show()"
   ]
  },
  {
   "cell_type": "code",
   "execution_count": 15,
   "id": "2f8d2cb9-c143-4b4c-a19e-1932547bdb59",
   "metadata": {},
   "outputs": [
    {
     "data": {
      "text/plain": [
       "{'age_model_result': 137.31236267089844}"
      ]
     },
     "execution_count": 15,
     "metadata": {},
     "output_type": "execute_result"
    }
   ],
   "source": [
    "model_eval"
   ]
  },
  {
   "cell_type": "code",
   "execution_count": 16,
   "id": "ea1afa6f-921d-44be-944f-0a4c7f5d2c54",
   "metadata": {},
   "outputs": [
    {
     "name": "stdout",
     "output_type": "stream",
     "text": [
      "1/1 [==============================] - 0s 27ms/step\n"
     ]
    }
   ],
   "source": [
    "x_test = [62, 12, 37]\n",
    "y_test = age_model.predict(x_test)"
   ]
  },
  {
   "cell_type": "code",
   "execution_count": 17,
   "id": "09ba00d4-1425-495f-9ae4-1e23243576c4",
   "metadata": {},
   "outputs": [],
   "source": [
    "test_dict = {}\n",
    "test_dict['AGE'] = np.array(x_test)\n",
    "test_dict['TAX'] = np.array(y_test)"
   ]
  },
  {
   "cell_type": "code",
   "execution_count": 18,
   "id": "bcb719b0-5847-4bf2-ac30-75a8e1d6a1ee",
   "metadata": {},
   "outputs": [
    {
     "data": {
      "image/png": "[encoded data removed]",
      "text/plain": [
       "<Figure size 640x480 with 1 Axes>"
      ]
     },
     "metadata": {},
     "output_type": "display_data"
    }
   ],
   "source": [
    "plt.scatter(age_train, tax_train, label = 'Data')\n",
    "plt.scatter(x_test, y_test, color = 'r', label = 'Test')\n",
    "plt.xlabel('Age')\n",
    "plt.ylabel('Tax')\n",
    "plt.legend()\n",
    "plt.show()"
   ]
  }
 ],
 "metadata": {
  "kernelspec": {
   "display_name": "Python 3 (ipykernel)",
   "language": "python",
   "name": "python3"
  },
  "language_info": {
   "codemirror_mode": {
    "name": "ipython",
    "version": 3
   },
   "file_extension": ".py",
   "mimetype": "text/x-python",
   "name": "python",
   "nbconvert_exporter": "python",
   "pygments_lexer": "ipython3",
   "version": "3.11.0"
  }
 },
 "nbformat": 4,
 "nbformat_minor": 5
}
