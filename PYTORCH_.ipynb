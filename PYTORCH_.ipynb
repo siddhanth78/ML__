{
 "cells": [
  {
   "cell_type": "code",
   "execution_count": 18,
   "id": "dbf4aba4-c881-446a-b83e-fe0e378116b5",
   "metadata": {},
   "outputs": [],
   "source": [
    "import torch\n",
    "import numpy as np"
   ]
  },
  {
   "cell_type": "code",
   "execution_count": 27,
   "id": "ca560386-eec8-44e6-afdf-b44c5380d66e",
   "metadata": {},
   "outputs": [
    {
     "name": "stdout",
     "output_type": "stream",
     "text": [
      "tensor([[1., 2., 3.],\n",
      "        [4., 5., 6.]], device='cuda:0', requires_grad=True)\n",
      "torch.Size([2, 3])\n",
      "torch.float32\n",
      "cuda:0\n",
      "True\n"
     ]
    }
   ],
   "source": [
    "device = \"cuda\" if torch.cuda.is_available() else \"cpu\"\n",
    "\n",
    "test_tensor = torch.tensor([[1,2,3],[4,5,6]],\n",
    "                           dtype = torch.float32,\n",
    "                           device = device,\n",
    "                          requires_grad = True)\n",
    "print(test_tensor)\n",
    "print(test_tensor.shape)\n",
    "print(test_tensor.dtype)\n",
    "print(test_tensor.device)\n",
    "print(test_tensor.requires_grad)"
   ]
  },
  {
   "cell_type": "code",
   "execution_count": 12,
   "id": "2841ec5f-b544-49c4-bb6e-5c6294802f7b",
   "metadata": {},
   "outputs": [
    {
     "name": "stdout",
     "output_type": "stream",
     "text": [
      "tensor([[0.1229, 0.2885, 0.1405],\n",
      "        [0.4673, 0.3631, 0.2595],\n",
      "        [0.7888, 0.6878, 0.1074]])\n",
      "tensor([[0., 0., 0.],\n",
      "        [0., 0., 0.],\n",
      "        [0., 0., 0.]])\n",
      "tensor([[1., 1., 1.],\n",
      "        [1., 1., 1.],\n",
      "        [1., 1., 1.]])\n",
      "tensor([[1., 0., 0.],\n",
      "        [0., 1., 0.],\n",
      "        [0., 0., 1.]])\n",
      "tensor([1, 2, 3, 4])\n",
      "tensor([0.1000, 0.2000, 0.3000, 0.4000, 0.5000, 0.6000, 0.7000, 0.8000, 0.9000,\n",
      "        1.0000])\n"
     ]
    }
   ],
   "source": [
    "print(torch.rand((3,3)))\n",
    "print(torch.zeros((3,3)))\n",
    "print(torch.ones((3,3)))\n",
    "print(torch.eye(3,3))\n",
    "print(torch.arange(1,5,1))\n",
    "print(torch.linspace(0.1,1,10))"
   ]
  },
  {
   "cell_type": "code",
   "execution_count": 16,
   "id": "259c8419-8cf3-4d83-bc20-4bdf85eee4d8",
   "metadata": {},
   "outputs": [
    {
     "name": "stdout",
     "output_type": "stream",
     "text": [
      "tensor([[False,  True, False],\n",
      "        [ True,  True, False],\n",
      "        [ True, False, False]])\n"
     ]
    }
   ],
   "source": [
    "#tensor.<dtype>() coverts tensor types\n",
    "\n",
    "bit_tensor = torch.tensor([[0,1,0],[1,1,0],[1,0,0]])\n",
    "bool_tensor = bit_tensor.bool()\n",
    "print(bool_tensor)"
   ]
  },
  {
   "cell_type": "code",
   "execution_count": 19,
   "id": "ede51c40-c085-48ba-96cf-de29d6dcf81b",
   "metadata": {},
   "outputs": [
    {
     "name": "stdout",
     "output_type": "stream",
     "text": [
      "tensor([[0., 0., 0.],\n",
      "        [0., 0., 0.],\n",
      "        [0., 0., 0.]], dtype=torch.float64)\n",
      "[[0. 0. 0.]\n",
      " [0. 0. 0.]\n",
      " [0. 0. 0.]]\n"
     ]
    }
   ],
   "source": [
    "arr = np.zeros((3,3))\n",
    "np_tensor = torch.from_numpy(arr)\n",
    "np_arr = np_tensor.numpy()\n",
    "print(np_tensor)\n",
    "print(np_arr)"
   ]
  },
  {
   "cell_type": "code",
   "execution_count": 45,
   "id": "f3653295-6922-405e-a9a7-7f38707368d4",
   "metadata": {},
   "outputs": [
    {
     "name": "stdout",
     "output_type": "stream",
     "text": [
      "tensor([10, 10, 10])\n",
      "tensor([-8, -6, -4])\n",
      "tensor([0.1111, 0.2500, 0.4286])\n",
      "tensor([1, 4, 9])\n",
      "tensor([True, True, True])\n",
      "tensor([[0.4963, 0.7682, 0.0885, 0.1320, 0.3074],\n",
      "        [0.6341, 0.4901, 0.8964, 0.4556, 0.6323],\n",
      "        [0.3489, 0.4017, 0.0223, 0.1689, 0.2939]]) torch.Size([3, 5])\n",
      "tensor([[0.5185, 0.6977],\n",
      "        [0.8000, 0.1610],\n",
      "        [0.2823, 0.6816],\n",
      "        [0.9152, 0.3971],\n",
      "        [0.8742, 0.4194]]) torch.Size([5, 2])\n",
      "tensor([[1.2864, 0.7116],\n",
      "        [1.9436, 1.5784],\n",
      "        [0.9200, 0.5136]]) torch.Size([3, 2])\n",
      "tensor([[0.3402, 0.7033],\n",
      "        [0.0267, 0.0688]])\n",
      "tensor(46)\n"
     ]
    }
   ],
   "source": [
    "x = torch.arange(1,4)\n",
    "y = torch.arange(9,6,-1)\n",
    "\n",
    "#Addition\n",
    "z1 = x+y\n",
    "print(z1)\n",
    "\n",
    "#Subtraction\n",
    "z2 = x-y\n",
    "print(z2)\n",
    "\n",
    "#Division\n",
    "z3 = torch.true_divide(x,y)\n",
    "print(z3)\n",
    "\n",
    "#Exponentiaition\n",
    "z4 = x ** 2\n",
    "print(z4)\n",
    "\n",
    "#Comparisons\n",
    "z5 = x > 0\n",
    "print(z5)\n",
    "\n",
    "#Multiplication\n",
    "torch.manual_seed(0)\n",
    "a = torch.rand((3,5))\n",
    "b = torch.rand((5,2))\n",
    "c = a.mm(b)\n",
    "print(a, a.shape)\n",
    "print(b, b.shape)\n",
    "print(c, c.shape)\n",
    "\n",
    "#Matrix exponentiation\n",
    "p = torch.rand(2,2)\n",
    "print(p.matrix_power(2))\n",
    "\n",
    "#Dot product\n",
    "print(torch.dot(x,y))"
   ]
  },
  {
   "cell_type": "code",
   "execution_count": null,
   "id": "b0cb426e-c362-4223-b56d-4751ba4df1af",
   "metadata": {},
   "outputs": [],
   "source": []
  }
 ],
 "metadata": {
  "kernelspec": {
   "display_name": "Python 3 (ipykernel)",
   "language": "python",
   "name": "python3"
  },
  "language_info": {
   "codemirror_mode": {
    "name": "ipython",
    "version": 3
   },
   "file_extension": ".py",
   "mimetype": "text/x-python",
   "name": "python",
   "nbconvert_exporter": "python",
   "pygments_lexer": "ipython3",
   "version": "3.11.0"
  }
 },
 "nbformat": 4,
 "nbformat_minor": 5
}
